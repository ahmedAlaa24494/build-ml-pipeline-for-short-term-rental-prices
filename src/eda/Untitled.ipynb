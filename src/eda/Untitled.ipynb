{
 "cells": [
  {
   "cell_type": "code",
   "execution_count": 10,
   "id": "863812a3",
   "metadata": {},
   "outputs": [
    {
     "name": "stderr",
     "output_type": "stream",
     "text": [
      "\u001b[34m\u001b[1mwandb\u001b[0m: Currently logged in as: \u001b[33mahmedaladdin\u001b[0m. Use \u001b[1m`wandb login --relogin`\u001b[0m to force relogin\n"
     ]
    },
    {
     "data": {
      "text/html": [
       "wandb version 0.13.9 is available!  To upgrade, please run:\n",
       " $ pip install wandb --upgrade"
      ],
      "text/plain": [
       "<IPython.core.display.HTML object>"
      ]
     },
     "metadata": {},
     "output_type": "display_data"
    },
    {
     "data": {
      "text/html": [
       "Tracking run with wandb version 0.12.21"
      ],
      "text/plain": [
       "<IPython.core.display.HTML object>"
      ]
     },
     "metadata": {},
     "output_type": "display_data"
    },
    {
     "data": {
      "text/html": [
       "Run data is saved locally in <code>/home/ahmed/Documents/MlOps NanoDegree/build-ml-pipeline-for-short-term-rental-prices/src/eda/wandb/run-20230115_105633-3b12lbg2</code>"
      ],
      "text/plain": [
       "<IPython.core.display.HTML object>"
      ]
     },
     "metadata": {},
     "output_type": "display_data"
    },
    {
     "data": {
      "text/html": [
       "Syncing run <strong><a href=\"https://wandb.ai/ahmedaladdin/build-ml-pipeline-for-short-term-rental-prices-src_eda/runs/3b12lbg2\" target=\"_blank\">azure-donkey-1</a></strong> to <a href=\"https://wandb.ai/ahmedaladdin/build-ml-pipeline-for-short-term-rental-prices-src_eda\" target=\"_blank\">Weights & Biases</a> (<a href=\"https://wandb.me/run\" target=\"_blank\">docs</a>)<br/>"
      ],
      "text/plain": [
       "<IPython.core.display.HTML object>"
      ]
     },
     "metadata": {},
     "output_type": "display_data"
    }
   ],
   "source": [
    "#!/usr/bin/env python\n",
    "import argparse\n",
    "import itertools\n",
    "import logging\n",
    "import json\n",
    "import pandas as pd\n",
    "import wandb\n",
    "import mlflow.sklearn\n",
    "import matplotlib.pyplot as plt\n",
    "from sklearn.metrics import mean_absolute_error\n",
    "\n",
    "logging.basicConfig(level=logging.INFO, format=\"%(asctime)-15s %(message)s\")\n",
    "logger = logging.getLogger()\n",
    "\n",
    "\n",
    "run = wandb.init(job_type=\"test\")\n",
    "\n"
   ]
  },
  {
   "cell_type": "code",
   "execution_count": 20,
   "id": "1fa90144",
   "metadata": {},
   "outputs": [
    {
     "name": "stderr",
     "output_type": "stream",
     "text": [
      "2023-01-15 12:02:56,441 Downloading and reading the exported model\n",
      "\u001b[34m\u001b[1mwandb\u001b[0m: Downloading large artifact random_forest_model:prod, 75.30MB. 6 files... Done. 0:0:0.0\n"
     ]
    }
   ],
   "source": [
    "logger.info(\"Downloading and reading the exported model\")\n",
    "model_export_path = run.use_artifact('nyc_airbnb/random_forest_model:prod').download()\n",
    "\n",
    "sk_pipe  =  mlflow.sklearn.load_model(model_export_path)\n",
    "processed_features = list(itertools.chain.from_iterable([x[2] for x in sk_pipe['Preprocessor'].transformers]))"
   ]
  },
  {
   "cell_type": "code",
   "execution_count": null,
   "id": "fb9799cc",
   "metadata": {},
   "outputs": [],
   "source": [
    "test_data_path = run.use_artifact('ahmedaladdin/nyc_airbnb/random_forest_model:latest').file()\n",
    "df = pd.read_csv(test_data_path, low_memory=False)\n",
    "\n",
    "# Extract the target from the features\n",
    "logger.info(\"Extracting target from dataframe\")\n",
    "X_test = df.copy()\n",
    "y_test = X_test.pop(\"price\")\n",
    "\n",
    "\n",
    "# Compute r2 and MAE\n",
    "logger.info(\"Scoring\")\n",
    "r_squared = sk_pipe.score(X_test[processed_features], y_test)\n",
    "\n",
    "y_pred = sk_pipe.predict(X_test[processed_features])\n",
    "mae = mean_absolute_error(y_test, y_pred)\n",
    "\n",
    "logger.info(f\"Score: {r_squared}\")\n",
    "logger.info(f\"MAE: {mae}\")\n",
    "\n",
    "######################################\n",
    "# Here we save r_squared under the \"r2\" key\n",
    "run.summary['r2'] = r_squared\n",
    "# Now log the variable \"mae\" under the key \"mae\".\n",
    "run.summary[\"mae\"] = mae"
   ]
  },
  {
   "cell_type": "code",
   "execution_count": 5,
   "id": "242f960d",
   "metadata": {},
   "outputs": [],
   "source": [
    "import sklearn\n"
   ]
  },
  {
   "cell_type": "code",
   "execution_count": null,
   "id": "6ff0511a",
   "metadata": {},
   "outputs": [],
   "source": []
  }
 ],
 "metadata": {
  "kernelspec": {
   "display_name": "Python 3 (ipykernel)",
   "language": "python",
   "name": "python3"
  },
  "language_info": {
   "codemirror_mode": {
    "name": "ipython",
    "version": 3
   },
   "file_extension": ".py",
   "mimetype": "text/x-python",
   "name": "python",
   "nbconvert_exporter": "python",
   "pygments_lexer": "ipython3",
   "version": "3.9.15"
  }
 },
 "nbformat": 4,
 "nbformat_minor": 5
}
